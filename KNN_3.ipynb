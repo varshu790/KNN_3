{
  "nbformat": 4,
  "nbformat_minor": 0,
  "metadata": {
    "colab": {
      "provenance": []
    },
    "kernelspec": {
      "name": "python3",
      "display_name": "Python 3"
    },
    "language_info": {
      "name": "python"
    }
  },
  "cells": [
    {
      "cell_type": "markdown",
      "source": [
        "Q1. Write a Python code to implement the KNN classifier algorithm on load_iris dataset in sklearn.datasets.\n",
        "\n",
        "ANS-"
      ],
      "metadata": {
        "id": "Td8yU2AFUKV0"
      }
    },
    {
      "cell_type": "code",
      "execution_count": 1,
      "metadata": {
        "colab": {
          "base_uri": "https://localhost:8080/"
        },
        "id": "aXr865KMSJZC",
        "outputId": "803e7138-691d-4250-eee7-8f6c07dbd5a1"
      },
      "outputs": [
        {
          "output_type": "stream",
          "name": "stdout",
          "text": [
            "Accuracy of KNN Classifier: 1.0000\n"
          ]
        }
      ],
      "source": [
        "from sklearn.datasets import load_iris\n",
        "from sklearn.model_selection import train_test_split\n",
        "from sklearn.neighbors import KNeighborsClassifier\n",
        "from sklearn.metrics import accuracy_score\n",
        "\n",
        "# Load the iris dataset\n",
        "iris = load_iris()\n",
        "X = iris.data  # Features\n",
        "y = iris.target  # Target variable\n",
        "\n",
        "# Split the data into training and testing sets\n",
        "X_train, X_test, y_train, y_test = train_test_split(X, y, test_size=0.2, random_state=42)\n",
        "\n",
        "# Initialize the KNN classifier\n",
        "knn = KNeighborsClassifier(n_neighbors=5)  # Set the number of neighbors (you can adjust this value)\n",
        "\n",
        "# Train the KNN classifier\n",
        "knn.fit(X_train, y_train)\n",
        "\n",
        "# Make predictions on the test set\n",
        "predictions = knn.predict(X_test)\n",
        "\n",
        "# Calculate the accuracy of the model\n",
        "accuracy = accuracy_score(y_test, predictions)\n",
        "print(f\"Accuracy of KNN Classifier: {accuracy:.4f}\")\n"
      ]
    },
    {
      "cell_type": "markdown",
      "source": [
        "Q2. Write a Python code to implement the KNN regressor algorithm on load_boston dataset in sklearn.datasets."
      ],
      "metadata": {
        "id": "u3himtxKUry8"
      }
    },
    {
      "cell_type": "code",
      "source": [
        "import pandas as pd\n",
        "from sklearn.model_selection import train_test_split\n",
        "from sklearn.neighbors import KNeighborsRegressor\n",
        "from sklearn.metrics import mean_squared_error\n",
        "from urllib.request import urlopen\n",
        "\n",
        "# URL link to the Boston dataset in UCI ML Repository\n",
        "url = \"https://archive.ics.uci.edu/ml/machine-learning-databases/housing/housing.data\"\n",
        "\n",
        "# Define column names as per the dataset description\n",
        "column_names = [\n",
        "    'CRIM', 'ZN', 'INDUS', 'CHAS', 'NOX', 'RM', 'AGE', 'DIS', 'RAD', 'TAX', 'PTRATIO', 'B', 'LSTAT', 'MEDV'\n",
        "]\n",
        "\n",
        "# Read the dataset directly from the URL\n",
        "boston_data = pd.read_csv(urlopen(url), delim_whitespace=True, names=column_names, header=None)\n",
        "\n",
        "# Separate features and target variable\n",
        "X = boston_data.drop(columns=['MEDV'])  # Features\n",
        "y = boston_data['MEDV']  # Target variable (housing prices)\n",
        "\n",
        "# Split the data into training and testing sets\n",
        "X_train, X_test, y_train, y_test = train_test_split(X, y, test_size=0.2, random_state=42)\n",
        "\n",
        "# Initialize the KNN regressor\n",
        "knn_regressor = KNeighborsRegressor(n_neighbors=5)  # Set the number of neighbors (you can adjust this value)\n",
        "\n",
        "# Train the KNN regressor\n",
        "knn_regressor.fit(X_train, y_train)\n",
        "\n",
        "# Make predictions on the test set\n",
        "predictions = knn_regressor.predict(X_test)\n",
        "\n",
        "# Calculate the mean squared error of the model\n",
        "mse = mean_squared_error(y_test, predictions)\n",
        "print(f\"Mean Squared Error of KNN Regressor: {mse:.4f}\")\n"
      ],
      "metadata": {
        "colab": {
          "base_uri": "https://localhost:8080/"
        },
        "id": "dGPpIm5rUwT2",
        "outputId": "48d574ff-9b29-40c5-8d5c-d95223094105"
      },
      "execution_count": 4,
      "outputs": [
        {
          "output_type": "stream",
          "name": "stdout",
          "text": [
            "Mean Squared Error of KNN Regressor: 25.8601\n"
          ]
        }
      ]
    },
    {
      "cell_type": "markdown",
      "source": [
        "Q3. Write a Python code snippet to find the optimal value of K for the KNN classifier algorithm using\n",
        "cross-validation on load_iris dataset in sklearn.datasets."
      ],
      "metadata": {
        "id": "sg9WJEOuVo4l"
      }
    },
    {
      "cell_type": "code",
      "source": [
        "from sklearn.datasets import load_iris\n",
        "from sklearn.model_selection import GridSearchCV, train_test_split\n",
        "from sklearn.neighbors import KNeighborsClassifier\n",
        "\n",
        "# Load the iris dataset\n",
        "iris = load_iris()\n",
        "X = iris.data  # Features\n",
        "y = iris.target  # Target variable\n",
        "\n",
        "# Split the data into training and testing sets\n",
        "X_train, X_test, y_train, y_test = train_test_split(X, y, test_size=0.2, random_state=42)\n",
        "\n",
        "# Define a range of k values to search\n",
        "param_grid = {'n_neighbors': range(1, 21)}  # Range of k values from 1 to 20\n",
        "\n",
        "# Initialize the KNN classifier\n",
        "knn = KNeighborsClassifier()\n",
        "\n",
        "# Use GridSearchCV to find the best k value through cross-validation\n",
        "grid_search = GridSearchCV(knn, param_grid, cv=5, scoring='accuracy')\n",
        "grid_search.fit(X_train, y_train)\n",
        "\n",
        "# Get the best k value and its corresponding accuracy score\n",
        "best_k = grid_search.best_params_['n_neighbors']\n",
        "best_score = grid_search.best_score_\n",
        "\n",
        "print(f\"Best k value: {best_k}\")\n",
        "print(f\"Corresponding Cross-Validation Accuracy Score: {best_score:.4f}\")\n",
        "\n",
        "# Evaluate the best model on the test set\n",
        "best_model = grid_search.best_estimator_\n",
        "test_accuracy = best_model.score(X_test, y_test)\n",
        "print(f\"Accuracy on Test Set with Best k value: {test_accuracy:.4f}\")\n"
      ],
      "metadata": {
        "colab": {
          "base_uri": "https://localhost:8080/"
        },
        "id": "GgamvvS-VqN2",
        "outputId": "97b7c8eb-cf64-4e17-9609-b8e69280a688"
      },
      "execution_count": 5,
      "outputs": [
        {
          "output_type": "stream",
          "name": "stdout",
          "text": [
            "Best k value: 3\n",
            "Corresponding Cross-Validation Accuracy Score: 0.9583\n",
            "Accuracy on Test Set with Best k value: 1.0000\n"
          ]
        }
      ]
    },
    {
      "cell_type": "markdown",
      "source": [
        "Q4. Implement the KNN regressor algorithm with feature scaling on load_boston dataset in sklearn.datasets."
      ],
      "metadata": {
        "id": "QlolfbsUVwlt"
      }
    },
    {
      "cell_type": "code",
      "source": [
        "import pandas as pd\n",
        "from sklearn.model_selection import train_test_split\n",
        "from sklearn.neighbors import KNeighborsRegressor\n",
        "from sklearn.preprocessing import StandardScaler\n",
        "from sklearn.metrics import mean_squared_error\n",
        "from urllib.request import urlopen\n",
        "\n",
        "# URL link to the Boston dataset in UCI ML Repository\n",
        "url = \"https://archive.ics.uci.edu/ml/machine-learning-databases/housing/housing.data\"\n",
        "\n",
        "# Define column names as per the dataset description\n",
        "column_names = [\n",
        "    'CRIM', 'ZN', 'INDUS', 'CHAS', 'NOX', 'RM', 'AGE', 'DIS', 'RAD', 'TAX', 'PTRATIO', 'B', 'LSTAT', 'MEDV'\n",
        "]\n",
        "\n",
        "# Read the dataset directly from the URL into a Pandas DataFrame\n",
        "boston_data = pd.read_csv(urlopen(url), delim_whitespace=True, names=column_names, header=None)\n",
        "\n",
        "# Separate features and target variable\n",
        "X = boston_data.drop(columns=['MEDV'])  # Features\n",
        "y = boston_data['MEDV']  # Target variable (housing prices)\n",
        "\n",
        "# Split the data into training and testing sets\n",
        "X_train, X_test, y_train, y_test = train_test_split(X, y, test_size=0.2, random_state=42)\n",
        "\n",
        "# Initialize StandardScaler for feature scaling\n",
        "scaler = StandardScaler()\n",
        "\n",
        "# Fit and transform the scaler on the training data\n",
        "X_train_scaled = scaler.fit_transform(X_train)\n",
        "\n",
        "# Transform the test data using the same scaler\n",
        "X_test_scaled = scaler.transform(X_test)\n",
        "\n",
        "# Initialize the KNN regressor\n",
        "knn_regressor = KNeighborsRegressor(n_neighbors=5)  # Set the number of neighbors (you can adjust this value)\n",
        "\n",
        "# Train the KNN regressor with scaled features\n",
        "knn_regressor.fit(X_train_scaled, y_train)\n",
        "\n",
        "# Make predictions on the scaled test set\n",
        "predictions = knn_regressor.predict(X_test_scaled)\n",
        "\n",
        "# Calculate the mean squared error of the model\n",
        "mse = mean_squared_error(y_test, predictions)\n",
        "print(f\"Mean Squared Error of KNN Regressor with Feature Scaling: {mse:.4f}\")\n"
      ],
      "metadata": {
        "colab": {
          "base_uri": "https://localhost:8080/"
        },
        "id": "-DC_zwANVtZa",
        "outputId": "d43fccae-3214-49b0-d41c-52797b4e7b85"
      },
      "execution_count": 8,
      "outputs": [
        {
          "output_type": "stream",
          "name": "stdout",
          "text": [
            "Mean Squared Error of KNN Regressor with Feature Scaling: 20.6055\n"
          ]
        }
      ]
    },
    {
      "cell_type": "markdown",
      "source": [
        "Q5. Write a Python code snippet to implement the KNN classifier algorithm with weighted voting on load_iris dataset in sklearn.datasets."
      ],
      "metadata": {
        "id": "U3LwGF7UYqGC"
      }
    },
    {
      "cell_type": "code",
      "source": [
        "from sklearn.datasets import load_iris\n",
        "from sklearn.model_selection import train_test_split\n",
        "from sklearn.neighbors import KNeighborsClassifier\n",
        "from sklearn.metrics import accuracy_score\n",
        "\n",
        "# Load the iris dataset\n",
        "iris = load_iris()\n",
        "X = iris.data  # Features\n",
        "y = iris.target  # Target variable\n",
        "\n",
        "# Split the data into training and testing sets\n",
        "X_train, X_test, y_train, y_test = train_test_split(X, y, test_size=0.2, random_state=42)\n",
        "\n",
        "# Initialize the KNN classifier with weighted voting\n",
        "knn = KNeighborsClassifier(n_neighbors=5, weights='distance')  # Set weights to 'distance' for weighted voting\n",
        "\n",
        "# Train the KNN classifier\n",
        "knn.fit(X_train, y_train)\n",
        "\n",
        "# Make predictions on the test set\n",
        "predictions = knn.predict(X_test)\n",
        "\n",
        "# Calculate the accuracy of the model\n",
        "accuracy = accuracy_score(y_test, predictions)\n",
        "print(f\"Accuracy of KNN Classifier with Weighted Voting: {accuracy:.4f}\")\n"
      ],
      "metadata": {
        "colab": {
          "base_uri": "https://localhost:8080/"
        },
        "id": "jyFCZ6gbY1cc",
        "outputId": "8ae8861d-ba25-43b7-86c1-fad0df2e60c3"
      },
      "execution_count": 9,
      "outputs": [
        {
          "output_type": "stream",
          "name": "stdout",
          "text": [
            "Accuracy of KNN Classifier with Weighted Voting: 1.0000\n"
          ]
        }
      ]
    },
    {
      "cell_type": "markdown",
      "source": [
        "Q6. Implement a function to standardise the features before applying KNN classifier."
      ],
      "metadata": {
        "id": "I5LMGkp0Y3qD"
      }
    },
    {
      "cell_type": "code",
      "source": [
        "from sklearn.preprocessing import StandardScaler\n",
        "\n",
        "def knn_with_standardization(X_train, X_test, y_train, y_test, n_neighbors=5):\n",
        "    # Initialize StandardScaler for feature standardization\n",
        "    scaler = StandardScaler()\n",
        "\n",
        "    # Fit and transform the scaler on the training data\n",
        "    X_train_scaled = scaler.fit_transform(X_train)\n",
        "\n",
        "    # Transform the test data using the same scaler\n",
        "    X_test_scaled = scaler.transform(X_test)\n",
        "\n",
        "    # Initialize the KNN classifier\n",
        "    knn = KNeighborsClassifier(n_neighbors=n_neighbors)\n",
        "\n",
        "    # Train the KNN classifier with standardized features\n",
        "    knn.fit(X_train_scaled, y_train)\n",
        "\n",
        "    # Make predictions on the scaled test set\n",
        "    predictions = knn.predict(X_test_scaled)\n",
        "\n",
        "    # Calculate and return the accuracy of the model\n",
        "    accuracy = accuracy_score(y_test, predictions)\n",
        "    return accuracy\n",
        "\n",
        "# Usage example:\n",
        "# Assuming X_train, X_test, y_train, y_test are already defined as training and testing sets\n",
        "# Replace these with your actual training and testing data\n",
        "\n",
        "# Example usage of the function with load_iris dataset\n",
        "from sklearn.datasets import load_iris\n",
        "from sklearn.model_selection import train_test_split\n",
        "from sklearn.neighbors import KNeighborsClassifier\n",
        "from sklearn.metrics import accuracy_score\n",
        "\n",
        "# Load the iris dataset\n",
        "iris = load_iris()\n",
        "X = iris.data  # Features\n",
        "y = iris.target  # Target variable\n",
        "\n",
        "# Split the data into training and testing sets\n",
        "X_train, X_test, y_train, y_test = train_test_split(X, y, test_size=0.2, random_state=42)\n",
        "\n",
        "# Call the function to apply KNN with feature standardization\n",
        "result_accuracy = knn_with_standardization(X_train, X_test, y_train, y_test, n_neighbors=5)\n",
        "print(f\"Accuracy of KNN Classifier with Feature Standardization: {result_accuracy:.4f}\")\n"
      ],
      "metadata": {
        "colab": {
          "base_uri": "https://localhost:8080/"
        },
        "id": "R1FmwSttZFQA",
        "outputId": "2dd59d6a-ba4b-4ed8-f522-2d2aa93b8f07"
      },
      "execution_count": 10,
      "outputs": [
        {
          "output_type": "stream",
          "name": "stdout",
          "text": [
            "Accuracy of KNN Classifier with Feature Standardization: 1.0000\n"
          ]
        }
      ]
    },
    {
      "cell_type": "markdown",
      "source": [
        "Q7. Write a Python function to calculate the euclidean distance between two points."
      ],
      "metadata": {
        "id": "qwO9CFXdZI33"
      }
    },
    {
      "cell_type": "code",
      "source": [
        "import numpy as np  # Using numpy for efficient calculations\n",
        "\n",
        "def euclidean_distance(point1, point2):\n",
        "    # Ensure both points have the same dimensionality\n",
        "    if len(point1) != len(point2):\n",
        "        raise ValueError(\"Points must have the same dimensionality\")\n",
        "\n",
        "    # Calculate the squared differences between coordinates of each dimension\n",
        "    squared_diff = [(p1 - p2) ** 2 for p1, p2 in zip(point1, point2)]\n",
        "\n",
        "    # Sum the squared differences and take the square root to get the Euclidean distance\n",
        "    distance = np.sqrt(sum(squared_diff))\n",
        "\n",
        "    return distance\n",
        "\n",
        "# Example usage:\n",
        "# Define two points in a 3-dimensional space\n",
        "point_a = [1, 2, 3]\n",
        "point_b = [4, 5, 6]\n",
        "\n",
        "# Calculate the Euclidean distance between the two points\n",
        "distance = euclidean_distance(point_a, point_b)\n",
        "print(f\"Euclidean Distance between point_a and point_b: {distance:.4f}\")\n"
      ],
      "metadata": {
        "colab": {
          "base_uri": "https://localhost:8080/"
        },
        "id": "msqOaDA2ZL9s",
        "outputId": "5fa4fb38-6987-4a58-fd23-36bf858a6af6"
      },
      "execution_count": 11,
      "outputs": [
        {
          "output_type": "stream",
          "name": "stdout",
          "text": [
            "Euclidean Distance between point_a and point_b: 5.1962\n"
          ]
        }
      ]
    },
    {
      "cell_type": "markdown",
      "source": [
        "Q8. Write a Python function to calculate the manhattan distance between two points."
      ],
      "metadata": {
        "id": "RWD4Dh73ZV9h"
      }
    },
    {
      "cell_type": "code",
      "source": [
        "def manhattan_distance(point1, point2):\n",
        "    # Ensure both points have the same dimensionality\n",
        "    if len(point1) != len(point2):\n",
        "        raise ValueError(\"Points must have the same dimensionality\")\n",
        "\n",
        "    # Calculate the absolute differences between coordinates of each dimension\n",
        "    abs_diff = [abs(p1 - p2) for p1, p2 in zip(point1, point2)]\n",
        "\n",
        "    # Sum the absolute differences to get the Manhattan distance\n",
        "    distance = sum(abs_diff)\n",
        "\n",
        "    return distance\n",
        "\n",
        "# Example usage:\n",
        "# Define two points in a 3-dimensional space\n",
        "point_a = [1, 2, 3]\n",
        "point_b = [4, 5, 6]\n",
        "\n",
        "# Calculate the Manhattan distance between the two points\n",
        "distance = manhattan_distance(point_a, point_b)\n",
        "print(f\"Manhattan Distance between point_a and point_b: {distance}\")\n"
      ],
      "metadata": {
        "colab": {
          "base_uri": "https://localhost:8080/"
        },
        "id": "FuNzmW8FZZ71",
        "outputId": "2efcd40e-929d-4d56-e388-297184427ae6"
      },
      "execution_count": 12,
      "outputs": [
        {
          "output_type": "stream",
          "name": "stdout",
          "text": [
            "Manhattan Distance between point_a and point_b: 9\n"
          ]
        }
      ]
    }
  ]
}